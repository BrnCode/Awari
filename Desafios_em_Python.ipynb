{
  "nbformat": 4,
  "nbformat_minor": 0,
  "metadata": {
    "colab": {
      "name": "Desafios em Python.ipynb",
      "provenance": [],
      "mount_file_id": "1x4sGzotW_WVNf-qNW-6Vvw_m2Ljl_7Pd",
      "authorship_tag": "ABX9TyOcrONaQm0tetWI4YRiNMbq",
      "include_colab_link": true
    },
    "kernelspec": {
      "name": "python3",
      "display_name": "Python 3"
    },
    "language_info": {
      "name": "python"
    }
  },
  "cells": [
    {
      "cell_type": "markdown",
      "metadata": {
        "id": "view-in-github",
        "colab_type": "text"
      },
      "source": [
        "<a href=\"https://colab.research.google.com/github/BrnCode/Exercicio-Awari/blob/main/Desafios_em_Python.ipynb\" target=\"_parent\"><img src=\"https://colab.research.google.com/assets/colab-badge.svg\" alt=\"Open In Colab\"/></a>"
      ]
    },
    {
      "cell_type": "code",
      "source": [
        "import pandas as pd\n",
        "import numpy as np"
      ],
      "metadata": {
        "id": "zF_LWpJibOKU"
      },
      "execution_count": null,
      "outputs": []
    },
    {
      "cell_type": "markdown",
      "source": [
        "\n",
        "### Desafio 1\n",
        "\n",
        "Escreva um programa em Python para contabilizar a quantidade de ocorrências de cada palavra.\n"
      ],
      "metadata": {
        "id": "mLs9PHPCbGwM"
      }
    },
    {
      "cell_type": "code",
      "source": [
        "palavras = ['red', 'green', 'black', 'pink', 'black', 'white', 'black', 'eyes',\n",
        "            'white', 'black', 'orange', 'pink', 'pink', 'red', 'red', 'white', 'orange',\n",
        "            'white', \"black\", 'pink', 'green', 'green', 'pink', 'green', 'pink',\n",
        "            'white', 'orange', \"orange\", 'red']"
      ],
      "metadata": {
        "id": "yGn9Pko8bGUV"
      },
      "execution_count": null,
      "outputs": []
    },
    {
      "cell_type": "code",
      "source": [
        "from collections import OrderedDict\n",
        "final_list = list(OrderedDict.fromkeys(palavras))\n",
        "final_list"
      ],
      "metadata": {
        "colab": {
          "base_uri": "https://localhost:8080/"
        },
        "id": "Q1Hddt2vfKEE",
        "outputId": "72362ab9-a6bc-4800-b5d2-6ac40f3a7023"
      },
      "execution_count": null,
      "outputs": [
        {
          "output_type": "execute_result",
          "data": {
            "text/plain": [
              "['red', 'green', 'black', 'pink', 'white', 'eyes', 'orange']"
            ]
          },
          "metadata": {},
          "execution_count": 21
        }
      ]
    },
    {
      "cell_type": "code",
      "execution_count": null,
      "metadata": {
        "colab": {
          "base_uri": "https://localhost:8080/"
        },
        "id": "efMS2ZIpa5ez",
        "outputId": "8951346e-8077-417f-b351-93ab76ee64f3"
      },
      "outputs": [
        {
          "output_type": "stream",
          "name": "stdout",
          "text": [
            "4\n",
            "4\n",
            "5\n",
            "6\n",
            "5\n",
            "1\n",
            "4\n"
          ]
        }
      ],
      "source": [
        "repeticoes = []\n",
        "for i in final_list:\n",
        "    palavras.count(i)\n",
        "    print(palavras.count(i))\n",
        "    integer = int(palavras.count(i))\n",
        "    repeticoes.append(integer)"
      ]
    },
    {
      "cell_type": "code",
      "source": [
        "cores = final_list\n",
        "repeticoes = repeticoes\n",
        "dic = dict(zip(cores, repeticoes))\n",
        "dic"
      ],
      "metadata": {
        "colab": {
          "base_uri": "https://localhost:8080/"
        },
        "id": "cOPMwC-ddavk",
        "outputId": "221b8258-e52a-436d-dfe0-e7e140d71d0f"
      },
      "execution_count": null,
      "outputs": [
        {
          "output_type": "execute_result",
          "data": {
            "text/plain": [
              "{'black': 5,\n",
              " 'eyes': 1,\n",
              " 'green': 4,\n",
              " 'orange': 4,\n",
              " 'pink': 6,\n",
              " 'red': 4,\n",
              " 'white': 5}"
            ]
          },
          "metadata": {},
          "execution_count": 32
        }
      ]
    },
    {
      "cell_type": "markdown",
      "source": [
        "### Desafio 2\n",
        "\n",
        "Escreva uma função que receba um número inteiro de horas e converta esse número para segundos.\n",
        "\n",
        "Exemplo:\n",
        "\n",
        "convert(5) ➞ 18000\n",
        "\n",
        "convert(3) ➞ 10800\n",
        "\n",
        "convert(2) ➞ 7200\n"
      ],
      "metadata": {
        "id": "4drIRFINjRVV"
      }
    },
    {
      "cell_type": "code",
      "source": [
        "def convert(num):\n",
        "    try:\n",
        "        inteiro = num #int(input(\"Insira um numero inteiro de horas: \"))\n",
        "    except ValueError as err:\n",
        "        print('Não inteiro inserido') # value error\n",
        "\n",
        "    seg = inteiro*60*60\n",
        "    print(f\"Sao {seg} segundos\")"
      ],
      "metadata": {
        "id": "LkA64MEDjN-k"
      },
      "execution_count": null,
      "outputs": []
    },
    {
      "cell_type": "code",
      "source": [
        "convert(2)"
      ],
      "metadata": {
        "colab": {
          "base_uri": "https://localhost:8080/"
        },
        "id": "V21em1XIlSnV",
        "outputId": "2fa8db21-40dc-4a5d-dd74-595d97708b96"
      },
      "execution_count": null,
      "outputs": [
        {
          "output_type": "stream",
          "name": "stdout",
          "text": [
            "Sao 7200 segundos\n"
          ]
        }
      ]
    },
    {
      "cell_type": "markdown",
      "source": [
        "\n",
        "###Desafio 3\n",
        "\n",
        "Escreva uma função que receba uma lista como entrada e retorne uma nova lista ordenada e sem valores duplicados.\n"
      ],
      "metadata": {
        "id": "BszRmwR2kOL-"
      }
    },
    {
      "cell_type": "code",
      "source": [
        "lista = [1,2,3,4,3,30,3,4,5,6,9,3,2,1,2,4,5,15,6,6,3,13,4,45,5]"
      ],
      "metadata": {
        "id": "NfY5T7STkN_d"
      },
      "execution_count": null,
      "outputs": []
    },
    {
      "cell_type": "code",
      "source": [
        "def ordena(listinha):\n",
        "    from collections import OrderedDict\n",
        "    final_lista = list(OrderedDict.fromkeys(lista))\n",
        "    #final_lista\n",
        "    print(final_lista)"
      ],
      "metadata": {
        "id": "HNxkwrCuf5-9"
      },
      "execution_count": null,
      "outputs": []
    },
    {
      "cell_type": "code",
      "source": [
        "ordena(lista)"
      ],
      "metadata": {
        "colab": {
          "base_uri": "https://localhost:8080/"
        },
        "id": "qTRk86U5l4IR",
        "outputId": "59310656-c7ff-4ea0-cd1a-957c7df9d0c2"
      },
      "execution_count": null,
      "outputs": [
        {
          "output_type": "stream",
          "name": "stdout",
          "text": [
            "[1, 2, 3, 4, 30, 5, 6, 9, 15, 13, 45]\n"
          ]
        }
      ]
    },
    {
      "cell_type": "markdown",
      "source": [
        "\n",
        "###Desafio 4\n",
        "\n",
        "Escreva uma função cuja entrada é uma string e a saída é outra string com as palavras em ordem inversa.\n",
        "\n",
        "Exemplo:\n",
        "\n",
        "inverte_texto(\"Python é legal\") ➞ \"legal é Python\"\n"
      ],
      "metadata": {
        "id": "j-hD9dWHk1n9"
      }
    },
    {
      "cell_type": "code",
      "source": [
        "def inverte_texto(texto):\n",
        "    cortar = texto\n",
        "    print((cortar.split(' '))[::-1])\n"
      ],
      "metadata": {
        "id": "hm81GOuZjoD-"
      },
      "execution_count": null,
      "outputs": []
    },
    {
      "cell_type": "code",
      "source": [
        "inverte_texto('tudo que nois tem é nois')"
      ],
      "metadata": {
        "colab": {
          "base_uri": "https://localhost:8080/"
        },
        "id": "s-mzFTl9mlFd",
        "outputId": "c59c409e-0096-4421-df40-aaba4faf04a7"
      },
      "execution_count": null,
      "outputs": [
        {
          "output_type": "stream",
          "name": "stdout",
          "text": [
            "['nois', 'é', 'tem', 'nois', 'que', 'tudo']\n"
          ]
        }
      ]
    },
    {
      "cell_type": "markdown",
      "source": [
        "\n",
        "###Desafio 5\n",
        "\n",
        "Você trabalha em uma loja de sapatos e deve contatar uma série de clientes. Seus números de telefone estão na lista abaixo. No entanto, é possível notar números duplicados na lista dada. Você seria capaz de remover estes duplicados para evitar que clientes sejam contatados mais de uma vez?\n"
      ],
      "metadata": {
        "id": "UwdZhngqttpA"
      }
    },
    {
      "cell_type": "code",
      "source": [
        "numeros_telefone = ['(765) 368-1506',\n",
        "                    '(285) 608-2448',\n",
        "                    '(255) 826-9050',\n",
        "                    '(554) 994-1517',\n",
        "                    '(285) 608-2448',\n",
        "                    '(596) 336-5508',\n",
        "                    '(511) 821-7870',\n",
        "                    '(410) 665-4447',\n",
        "                    '(821) 642-8987',\n",
        "                    '(285) 608-2448',\n",
        "                    '(311) 799-3883',\n",
        "                    '(935) 875-2054',\n",
        "                    '(464) 788-2397',\n",
        "                    '(765) 368-1506',\n",
        "                    '(650) 684-1437',\n",
        "                    '(812) 816-0881',\n",
        "                    '(285) 608-2448',\n",
        "                    '(885) 407-1719',\n",
        "                    '(943) 769-1061',\n",
        "                    '(596) 336-5508',\n",
        "                    '(765) 368-1506',\n",
        "                    '(255) 826-9050']"
      ],
      "metadata": {
        "id": "9S2e8Z9ir8Av"
      },
      "execution_count": null,
      "outputs": []
    },
    {
      "cell_type": "code",
      "source": [
        "set(numeros_telefone)"
      ],
      "metadata": {
        "colab": {
          "base_uri": "https://localhost:8080/"
        },
        "id": "feUXyq2St7IX",
        "outputId": "81316493-c901-4708-dcfb-a0d9051d48cd"
      },
      "execution_count": null,
      "outputs": [
        {
          "output_type": "execute_result",
          "data": {
            "text/plain": [
              "{'(255) 826-9050',\n",
              " '(285) 608-2448',\n",
              " '(311) 799-3883',\n",
              " '(410) 665-4447',\n",
              " '(464) 788-2397',\n",
              " '(511) 821-7870',\n",
              " '(554) 994-1517',\n",
              " '(596) 336-5508',\n",
              " '(650) 684-1437',\n",
              " '(765) 368-1506',\n",
              " '(812) 816-0881',\n",
              " '(821) 642-8987',\n",
              " '(885) 407-1719',\n",
              " '(935) 875-2054',\n",
              " '(943) 769-1061'}"
            ]
          },
          "metadata": {},
          "execution_count": 100
        }
      ]
    },
    {
      "cell_type": "markdown",
      "source": [
        "\n",
        "###Desafio 6\n",
        "\n",
        "Crie uma função que receba duas listas e retorne uma lista que contenha apenas os elementos comuns entre as listas (sem repetição). A função deve suportar lista de tamanhos diferentes.\n"
      ],
      "metadata": {
        "id": "s8VxK67MuotR"
      }
    },
    {
      "cell_type": "code",
      "source": [
        "a = [1, 1, 2, 3, 5, 8, 13, 21, 34, 55, 89]\n",
        "b = [1, 2, 3, 4, 5, 6, 7, 8, 9, 10, 11, 12, 13]"
      ],
      "metadata": {
        "id": "JUR1ZV_WujOX"
      },
      "execution_count": null,
      "outputs": []
    },
    {
      "cell_type": "code",
      "source": [
        "def junta(q, p):\n",
        "    c = list(set(q) & set(p))\n",
        "    print(c)"
      ],
      "metadata": {
        "id": "A0erRvwCuxIH"
      },
      "execution_count": null,
      "outputs": []
    },
    {
      "cell_type": "code",
      "source": [
        "junta(a, b)"
      ],
      "metadata": {
        "colab": {
          "base_uri": "https://localhost:8080/"
        },
        "id": "rhkPN66DvWPw",
        "outputId": "b0ed4668-3fe6-463e-b3a1-0e3cf1296ba3"
      },
      "execution_count": null,
      "outputs": [
        {
          "output_type": "stream",
          "name": "stdout",
          "text": [
            "[1, 2, 3, 5, 8, 13]\n"
          ]
        }
      ]
    },
    {
      "cell_type": "markdown",
      "source": [
        "\n",
        "###Desafio 7\n",
        "\n",
        "Um professor de universidade tem uma turma com os seguintes números de telefones:\n"
      ],
      "metadata": {
        "id": "nLxsDeDBwHR3"
      }
    },
    {
      "cell_type": "code",
      "source": [
        "telefones_alunos = ['(873) 810-8267', '(633) 244-7325', '(300) 303-5462', \n",
        "                    '(938) 300-8890', '(429) 264-7427', '(737) 805-2326', \n",
        "                    '(768) 956-8497', '(941) 225-3869', '(203) 606-9463', \n",
        "                    '(294) 430-7720', '(896) 781-5087', '(397) 845-8267', \n",
        "                    '(788) 717-6858', '(419) 734-4188', '(682) 595-3278', \n",
        "                    '(835) 955-1498', '(296) 415-9944', '(897) 932-2512', \n",
        "                    '(263) 415-3893', '(822) 640-8496', '(640) 427-2597', \n",
        "                    '(856) 338-7094', '(807) 554-4076', '(641) 367-5279', \n",
        "                    '(828) 866-0696', '(727) 376-5749', '(921) 948-2244', \n",
        "                    '(964) 710-9625', '(596) 685-1242', '(403) 343-7705', \n",
        "                    '(227) 389-3685', '(264) 372-7298', '(797) 649-3653', \n",
        "                    '(374) 361-3844', '(618) 490-4228', '(987) 803-5550', \n",
        "                    '(228) 976-9699', '(757) 450-9985', '(491) 666-5367']"
      ],
      "metadata": {
        "id": "OR4cseouvXjn"
      },
      "execution_count": null,
      "outputs": []
    },
    {
      "cell_type": "markdown",
      "source": [
        "\n",
        "\n",
        "Ele criou um grupo do WhatsApp. No entanto, somente os seguintes números entraram no grupo.\n"
      ],
      "metadata": {
        "id": "RY5937-kwTI6"
      }
    },
    {
      "cell_type": "code",
      "source": [
        "entraram_no_grupo = ['(596) 685-1242', '(727) 376-5749', '(987) 803-5550', \n",
        "                     '(633) 244-7325', '(828) 866-0696', '(263) 415-3893', \n",
        "                     '(203) 606-9463', '(296) 415-9944', '(419) 734-4188', \n",
        "                     '(618) 490-4228', '(682) 595-3278', '(938) 300-8890', \n",
        "                     '(264) 372-7298', '(768) 956-8497', '(737) 805-2326', \n",
        "                     '(788) 717-6858', '(228) 976-9699', '(896) 781-5087',\n",
        "                     '(374) 361-3844', '(921) 948-2244', '(807) 554-4076', \n",
        "                     '(822) 640-8496', '(227) 389-3685', '(429) 264-7427', \n",
        "                     '(397) 845-8267']"
      ],
      "metadata": {
        "id": "KQfwca1ywQPn"
      },
      "execution_count": null,
      "outputs": []
    },
    {
      "cell_type": "markdown",
      "source": [
        "\n",
        "\n",
        "Você seria capaz de criar uma lista dos alunos que ainda não entraram no grupo para que sejam contatados individualmente?\n"
      ],
      "metadata": {
        "id": "LudO4enYwZrH"
      }
    },
    {
      "cell_type": "code",
      "source": [
        "list(set(telefones_alunos) - set(entraram_no_grupo))"
      ],
      "metadata": {
        "colab": {
          "base_uri": "https://localhost:8080/"
        },
        "id": "8zJT2MFDwZcI",
        "outputId": "97724638-8191-495f-ab02-5bc58e969a07"
      },
      "execution_count": null,
      "outputs": [
        {
          "output_type": "execute_result",
          "data": {
            "text/plain": [
              "['(300) 303-5462',\n",
              " '(757) 450-9985',\n",
              " '(294) 430-7720',\n",
              " '(873) 810-8267',\n",
              " '(897) 932-2512',\n",
              " '(941) 225-3869',\n",
              " '(640) 427-2597',\n",
              " '(964) 710-9625',\n",
              " '(641) 367-5279',\n",
              " '(797) 649-3653',\n",
              " '(856) 338-7094',\n",
              " '(491) 666-5367',\n",
              " '(403) 343-7705',\n",
              " '(835) 955-1498']"
            ]
          },
          "metadata": {},
          "execution_count": 126
        }
      ]
    },
    {
      "cell_type": "markdown",
      "source": [
        "\n",
        "###Desafio 8\n",
        "\n",
        "Escreva um script Python para encontrar as 10 palavras mais longas em um arquivo de texto. O arquivo .txt está localizado na mesma pasta do projeto (texto.txt).\n"
      ],
      "metadata": {
        "id": "ziXkVADtySJI"
      }
    },
    {
      "cell_type": "markdown",
      "source": [
        "https://github.com/awarischool/br-python-challenges/blob/master/texto.txt"
      ],
      "metadata": {
        "id": "u6R8eWkLA2L6"
      }
    },
    {
      "cell_type": "code",
      "source": [
        "path = '/content/drive/MyDrive/Awari/Tarefa Plataforma/texto.txt'\n",
        "with open(path) as f:\n",
        "    lines = f.readlines()\n",
        "lines"
      ],
      "metadata": {
        "colab": {
          "base_uri": "https://localhost:8080/"
        },
        "id": "FbE-aymZBBeU",
        "outputId": "3fe81b09-b648-437b-c9d1-ea53b6abc374"
      },
      "execution_count": null,
      "outputs": [
        {
          "output_type": "execute_result",
          "data": {
            "text/plain": [
              "['What is Python language                                                \\n',\n",
              " 'Python is a widely used high-level, general-purpose, interpreted, dynamic programming language.Its design philosophy emphasizes code readability, and its syntax allows programmers to express concepts in fewer lines of code than possible in \\n',\n",
              " 'languages such as C++ or Java. \\n',\n",
              " 'Python supports multiple programming paradigms, including object-oriented, imperative and functional programming or procedural styles.It features a dynamic type system and automatic memory management and has a large and comprehensive standard library.The best way we learn anything is by practice and exercise questions. We  have started this section for those (beginner to intermediate) who are familiar with Python.']"
            ]
          },
          "metadata": {},
          "execution_count": 138
        }
      ]
    },
    {
      "cell_type": "code",
      "source": [
        "linhas = list(lines)\n",
        "linhas"
      ],
      "metadata": {
        "colab": {
          "base_uri": "https://localhost:8080/"
        },
        "id": "S3Fa1KgQDp0j",
        "outputId": "f0e59b3d-382b-415e-dd2c-5016ed97fa34"
      },
      "execution_count": null,
      "outputs": [
        {
          "output_type": "execute_result",
          "data": {
            "text/plain": [
              "['What is Python language                                                \\n',\n",
              " 'Python is a widely used high-level, general-purpose, interpreted, dynamic programming language.Its design philosophy emphasizes code readability, and its syntax allows programmers to express concepts in fewer lines of code than possible in \\n',\n",
              " 'languages such as C++ or Java. \\n',\n",
              " 'Python supports multiple programming paradigms, including object-oriented, imperative and functional programming or procedural styles.It features a dynamic type system and automatic memory management and has a large and comprehensive standard library.The best way we learn anything is by practice and exercise questions. We  have started this section for those (beginner to intermediate) who are familiar with Python.']"
            ]
          },
          "metadata": {},
          "execution_count": 148
        }
      ]
    },
    {
      "cell_type": "code",
      "source": [
        "for i in linhas:\n",
        "    print(i)"
      ],
      "metadata": {
        "colab": {
          "base_uri": "https://localhost:8080/"
        },
        "id": "7qiJNHGUEkUj",
        "outputId": "15943eab-047a-493f-b477-5ac2331c04d7"
      },
      "execution_count": null,
      "outputs": [
        {
          "output_type": "stream",
          "name": "stdout",
          "text": [
            "What is Python language                                                \n",
            "\n",
            "Python is a widely used high-level, general-purpose, interpreted, dynamic programming language.Its design philosophy emphasizes code readability, and its syntax allows programmers to express concepts in fewer lines of code than possible in \n",
            "\n",
            "languages such as C++ or Java. \n",
            "\n",
            "Python supports multiple programming paradigms, including object-oriented, imperative and functional programming or procedural styles.It features a dynamic type system and automatic memory management and has a large and comprehensive standard library.The best way we learn anything is by practice and exercise questions. We  have started this section for those (beginner to intermediate) who are familiar with Python.\n"
          ]
        }
      ]
    },
    {
      "cell_type": "code",
      "source": [
        "import re\n",
        "chars = \"!#$%^&*(),.'\" \n",
        "linhas1 = []\n",
        "for i in linhas:\n",
        "    linhas1 = re.sub(r\"[^a-zA-Z0-9]\",\" \", i)\n",
        "\n",
        "linhas2 = linhas1.split(' ')"
      ],
      "metadata": {
        "id": "Y4FgjymkEsTT"
      },
      "execution_count": null,
      "outputs": []
    },
    {
      "cell_type": "code",
      "source": [
        "num_c = []\n",
        "for i in linhas2:\n",
        "    num_c.append(len(i))\n",
        "\n",
        "num_c"
      ],
      "metadata": {
        "id": "xgucMTP7CM4S"
      },
      "execution_count": null,
      "outputs": []
    },
    {
      "cell_type": "code",
      "source": [
        "data = pd.DataFrame(list(zip(linhas2, num_c)))\n",
        "data"
      ],
      "metadata": {
        "colab": {
          "base_uri": "https://localhost:8080/",
          "height": 424
        },
        "id": "JmLcN8bNCYt8",
        "outputId": "5ea5a115-162d-4ec3-83df-93fdc6a6c297"
      },
      "execution_count": null,
      "outputs": [
        {
          "output_type": "execute_result",
          "data": {
            "text/plain": [
              "              0   1\n",
              "0        Python   6\n",
              "1      supports   8\n",
              "2      multiple   8\n",
              "3   programming  11\n",
              "4     paradigms   9\n",
              "..          ...  ..\n",
              "62          are   3\n",
              "63     familiar   8\n",
              "64         with   4\n",
              "65       Python   6\n",
              "66                0\n",
              "\n",
              "[67 rows x 2 columns]"
            ],
            "text/html": [
              "\n",
              "  <div id=\"df-9b7ad5b9-c0a5-4391-b97d-8871c267fb8a\">\n",
              "    <div class=\"colab-df-container\">\n",
              "      <div>\n",
              "<style scoped>\n",
              "    .dataframe tbody tr th:only-of-type {\n",
              "        vertical-align: middle;\n",
              "    }\n",
              "\n",
              "    .dataframe tbody tr th {\n",
              "        vertical-align: top;\n",
              "    }\n",
              "\n",
              "    .dataframe thead th {\n",
              "        text-align: right;\n",
              "    }\n",
              "</style>\n",
              "<table border=\"1\" class=\"dataframe\">\n",
              "  <thead>\n",
              "    <tr style=\"text-align: right;\">\n",
              "      <th></th>\n",
              "      <th>0</th>\n",
              "      <th>1</th>\n",
              "    </tr>\n",
              "  </thead>\n",
              "  <tbody>\n",
              "    <tr>\n",
              "      <th>0</th>\n",
              "      <td>Python</td>\n",
              "      <td>6</td>\n",
              "    </tr>\n",
              "    <tr>\n",
              "      <th>1</th>\n",
              "      <td>supports</td>\n",
              "      <td>8</td>\n",
              "    </tr>\n",
              "    <tr>\n",
              "      <th>2</th>\n",
              "      <td>multiple</td>\n",
              "      <td>8</td>\n",
              "    </tr>\n",
              "    <tr>\n",
              "      <th>3</th>\n",
              "      <td>programming</td>\n",
              "      <td>11</td>\n",
              "    </tr>\n",
              "    <tr>\n",
              "      <th>4</th>\n",
              "      <td>paradigms</td>\n",
              "      <td>9</td>\n",
              "    </tr>\n",
              "    <tr>\n",
              "      <th>...</th>\n",
              "      <td>...</td>\n",
              "      <td>...</td>\n",
              "    </tr>\n",
              "    <tr>\n",
              "      <th>62</th>\n",
              "      <td>are</td>\n",
              "      <td>3</td>\n",
              "    </tr>\n",
              "    <tr>\n",
              "      <th>63</th>\n",
              "      <td>familiar</td>\n",
              "      <td>8</td>\n",
              "    </tr>\n",
              "    <tr>\n",
              "      <th>64</th>\n",
              "      <td>with</td>\n",
              "      <td>4</td>\n",
              "    </tr>\n",
              "    <tr>\n",
              "      <th>65</th>\n",
              "      <td>Python</td>\n",
              "      <td>6</td>\n",
              "    </tr>\n",
              "    <tr>\n",
              "      <th>66</th>\n",
              "      <td></td>\n",
              "      <td>0</td>\n",
              "    </tr>\n",
              "  </tbody>\n",
              "</table>\n",
              "<p>67 rows × 2 columns</p>\n",
              "</div>\n",
              "      <button class=\"colab-df-convert\" onclick=\"convertToInteractive('df-9b7ad5b9-c0a5-4391-b97d-8871c267fb8a')\"\n",
              "              title=\"Convert this dataframe to an interactive table.\"\n",
              "              style=\"display:none;\">\n",
              "        \n",
              "  <svg xmlns=\"http://www.w3.org/2000/svg\" height=\"24px\"viewBox=\"0 0 24 24\"\n",
              "       width=\"24px\">\n",
              "    <path d=\"M0 0h24v24H0V0z\" fill=\"none\"/>\n",
              "    <path d=\"M18.56 5.44l.94 2.06.94-2.06 2.06-.94-2.06-.94-.94-2.06-.94 2.06-2.06.94zm-11 1L8.5 8.5l.94-2.06 2.06-.94-2.06-.94L8.5 2.5l-.94 2.06-2.06.94zm10 10l.94 2.06.94-2.06 2.06-.94-2.06-.94-.94-2.06-.94 2.06-2.06.94z\"/><path d=\"M17.41 7.96l-1.37-1.37c-.4-.4-.92-.59-1.43-.59-.52 0-1.04.2-1.43.59L10.3 9.45l-7.72 7.72c-.78.78-.78 2.05 0 2.83L4 21.41c.39.39.9.59 1.41.59.51 0 1.02-.2 1.41-.59l7.78-7.78 2.81-2.81c.8-.78.8-2.07 0-2.86zM5.41 20L4 18.59l7.72-7.72 1.47 1.35L5.41 20z\"/>\n",
              "  </svg>\n",
              "      </button>\n",
              "      \n",
              "  <style>\n",
              "    .colab-df-container {\n",
              "      display:flex;\n",
              "      flex-wrap:wrap;\n",
              "      gap: 12px;\n",
              "    }\n",
              "\n",
              "    .colab-df-convert {\n",
              "      background-color: #E8F0FE;\n",
              "      border: none;\n",
              "      border-radius: 50%;\n",
              "      cursor: pointer;\n",
              "      display: none;\n",
              "      fill: #1967D2;\n",
              "      height: 32px;\n",
              "      padding: 0 0 0 0;\n",
              "      width: 32px;\n",
              "    }\n",
              "\n",
              "    .colab-df-convert:hover {\n",
              "      background-color: #E2EBFA;\n",
              "      box-shadow: 0px 1px 2px rgba(60, 64, 67, 0.3), 0px 1px 3px 1px rgba(60, 64, 67, 0.15);\n",
              "      fill: #174EA6;\n",
              "    }\n",
              "\n",
              "    [theme=dark] .colab-df-convert {\n",
              "      background-color: #3B4455;\n",
              "      fill: #D2E3FC;\n",
              "    }\n",
              "\n",
              "    [theme=dark] .colab-df-convert:hover {\n",
              "      background-color: #434B5C;\n",
              "      box-shadow: 0px 1px 3px 1px rgba(0, 0, 0, 0.15);\n",
              "      filter: drop-shadow(0px 1px 2px rgba(0, 0, 0, 0.3));\n",
              "      fill: #FFFFFF;\n",
              "    }\n",
              "  </style>\n",
              "\n",
              "      <script>\n",
              "        const buttonEl =\n",
              "          document.querySelector('#df-9b7ad5b9-c0a5-4391-b97d-8871c267fb8a button.colab-df-convert');\n",
              "        buttonEl.style.display =\n",
              "          google.colab.kernel.accessAllowed ? 'block' : 'none';\n",
              "\n",
              "        async function convertToInteractive(key) {\n",
              "          const element = document.querySelector('#df-9b7ad5b9-c0a5-4391-b97d-8871c267fb8a');\n",
              "          const dataTable =\n",
              "            await google.colab.kernel.invokeFunction('convertToInteractive',\n",
              "                                                     [key], {});\n",
              "          if (!dataTable) return;\n",
              "\n",
              "          const docLinkHtml = 'Like what you see? Visit the ' +\n",
              "            '<a target=\"_blank\" href=https://colab.research.google.com/notebooks/data_table.ipynb>data table notebook</a>'\n",
              "            + ' to learn more about interactive tables.';\n",
              "          element.innerHTML = '';\n",
              "          dataTable['output_type'] = 'display_data';\n",
              "          await google.colab.output.renderOutput(dataTable, element);\n",
              "          const docLink = document.createElement('div');\n",
              "          docLink.innerHTML = docLinkHtml;\n",
              "          element.appendChild(docLink);\n",
              "        }\n",
              "      </script>\n",
              "    </div>\n",
              "  </div>\n",
              "  "
            ]
          },
          "metadata": {},
          "execution_count": 215
        }
      ]
    },
    {
      "cell_type": "code",
      "source": [
        "data.sort_values(by=[1], ascending=False).head(10)"
      ],
      "metadata": {
        "colab": {
          "base_uri": "https://localhost:8080/",
          "height": 363
        },
        "id": "RK4rLjbgKKV0",
        "outputId": "bfc0b78a-115e-4001-c62f-6217ebc3c4ea"
      },
      "execution_count": null,
      "outputs": [
        {
          "output_type": "execute_result",
          "data": {
            "text/plain": [
              "                0   1\n",
              "32  comprehensive  13\n",
              "59   intermediate  12\n",
              "13    programming  11\n",
              "3     programming  11\n",
              "15     procedural  10\n",
              "12     functional  10\n",
              "10     imperative  10\n",
              "26     management  10\n",
              "46      questions   9\n",
              "6       including   9"
            ],
            "text/html": [
              "\n",
              "  <div id=\"df-42b69e6a-8fb8-419e-b560-e791906a939a\">\n",
              "    <div class=\"colab-df-container\">\n",
              "      <div>\n",
              "<style scoped>\n",
              "    .dataframe tbody tr th:only-of-type {\n",
              "        vertical-align: middle;\n",
              "    }\n",
              "\n",
              "    .dataframe tbody tr th {\n",
              "        vertical-align: top;\n",
              "    }\n",
              "\n",
              "    .dataframe thead th {\n",
              "        text-align: right;\n",
              "    }\n",
              "</style>\n",
              "<table border=\"1\" class=\"dataframe\">\n",
              "  <thead>\n",
              "    <tr style=\"text-align: right;\">\n",
              "      <th></th>\n",
              "      <th>0</th>\n",
              "      <th>1</th>\n",
              "    </tr>\n",
              "  </thead>\n",
              "  <tbody>\n",
              "    <tr>\n",
              "      <th>32</th>\n",
              "      <td>comprehensive</td>\n",
              "      <td>13</td>\n",
              "    </tr>\n",
              "    <tr>\n",
              "      <th>59</th>\n",
              "      <td>intermediate</td>\n",
              "      <td>12</td>\n",
              "    </tr>\n",
              "    <tr>\n",
              "      <th>13</th>\n",
              "      <td>programming</td>\n",
              "      <td>11</td>\n",
              "    </tr>\n",
              "    <tr>\n",
              "      <th>3</th>\n",
              "      <td>programming</td>\n",
              "      <td>11</td>\n",
              "    </tr>\n",
              "    <tr>\n",
              "      <th>15</th>\n",
              "      <td>procedural</td>\n",
              "      <td>10</td>\n",
              "    </tr>\n",
              "    <tr>\n",
              "      <th>12</th>\n",
              "      <td>functional</td>\n",
              "      <td>10</td>\n",
              "    </tr>\n",
              "    <tr>\n",
              "      <th>10</th>\n",
              "      <td>imperative</td>\n",
              "      <td>10</td>\n",
              "    </tr>\n",
              "    <tr>\n",
              "      <th>26</th>\n",
              "      <td>management</td>\n",
              "      <td>10</td>\n",
              "    </tr>\n",
              "    <tr>\n",
              "      <th>46</th>\n",
              "      <td>questions</td>\n",
              "      <td>9</td>\n",
              "    </tr>\n",
              "    <tr>\n",
              "      <th>6</th>\n",
              "      <td>including</td>\n",
              "      <td>9</td>\n",
              "    </tr>\n",
              "  </tbody>\n",
              "</table>\n",
              "</div>\n",
              "      <button class=\"colab-df-convert\" onclick=\"convertToInteractive('df-42b69e6a-8fb8-419e-b560-e791906a939a')\"\n",
              "              title=\"Convert this dataframe to an interactive table.\"\n",
              "              style=\"display:none;\">\n",
              "        \n",
              "  <svg xmlns=\"http://www.w3.org/2000/svg\" height=\"24px\"viewBox=\"0 0 24 24\"\n",
              "       width=\"24px\">\n",
              "    <path d=\"M0 0h24v24H0V0z\" fill=\"none\"/>\n",
              "    <path d=\"M18.56 5.44l.94 2.06.94-2.06 2.06-.94-2.06-.94-.94-2.06-.94 2.06-2.06.94zm-11 1L8.5 8.5l.94-2.06 2.06-.94-2.06-.94L8.5 2.5l-.94 2.06-2.06.94zm10 10l.94 2.06.94-2.06 2.06-.94-2.06-.94-.94-2.06-.94 2.06-2.06.94z\"/><path d=\"M17.41 7.96l-1.37-1.37c-.4-.4-.92-.59-1.43-.59-.52 0-1.04.2-1.43.59L10.3 9.45l-7.72 7.72c-.78.78-.78 2.05 0 2.83L4 21.41c.39.39.9.59 1.41.59.51 0 1.02-.2 1.41-.59l7.78-7.78 2.81-2.81c.8-.78.8-2.07 0-2.86zM5.41 20L4 18.59l7.72-7.72 1.47 1.35L5.41 20z\"/>\n",
              "  </svg>\n",
              "      </button>\n",
              "      \n",
              "  <style>\n",
              "    .colab-df-container {\n",
              "      display:flex;\n",
              "      flex-wrap:wrap;\n",
              "      gap: 12px;\n",
              "    }\n",
              "\n",
              "    .colab-df-convert {\n",
              "      background-color: #E8F0FE;\n",
              "      border: none;\n",
              "      border-radius: 50%;\n",
              "      cursor: pointer;\n",
              "      display: none;\n",
              "      fill: #1967D2;\n",
              "      height: 32px;\n",
              "      padding: 0 0 0 0;\n",
              "      width: 32px;\n",
              "    }\n",
              "\n",
              "    .colab-df-convert:hover {\n",
              "      background-color: #E2EBFA;\n",
              "      box-shadow: 0px 1px 2px rgba(60, 64, 67, 0.3), 0px 1px 3px 1px rgba(60, 64, 67, 0.15);\n",
              "      fill: #174EA6;\n",
              "    }\n",
              "\n",
              "    [theme=dark] .colab-df-convert {\n",
              "      background-color: #3B4455;\n",
              "      fill: #D2E3FC;\n",
              "    }\n",
              "\n",
              "    [theme=dark] .colab-df-convert:hover {\n",
              "      background-color: #434B5C;\n",
              "      box-shadow: 0px 1px 3px 1px rgba(0, 0, 0, 0.15);\n",
              "      filter: drop-shadow(0px 1px 2px rgba(0, 0, 0, 0.3));\n",
              "      fill: #FFFFFF;\n",
              "    }\n",
              "  </style>\n",
              "\n",
              "      <script>\n",
              "        const buttonEl =\n",
              "          document.querySelector('#df-42b69e6a-8fb8-419e-b560-e791906a939a button.colab-df-convert');\n",
              "        buttonEl.style.display =\n",
              "          google.colab.kernel.accessAllowed ? 'block' : 'none';\n",
              "\n",
              "        async function convertToInteractive(key) {\n",
              "          const element = document.querySelector('#df-42b69e6a-8fb8-419e-b560-e791906a939a');\n",
              "          const dataTable =\n",
              "            await google.colab.kernel.invokeFunction('convertToInteractive',\n",
              "                                                     [key], {});\n",
              "          if (!dataTable) return;\n",
              "\n",
              "          const docLinkHtml = 'Like what you see? Visit the ' +\n",
              "            '<a target=\"_blank\" href=https://colab.research.google.com/notebooks/data_table.ipynb>data table notebook</a>'\n",
              "            + ' to learn more about interactive tables.';\n",
              "          element.innerHTML = '';\n",
              "          dataTable['output_type'] = 'display_data';\n",
              "          await google.colab.output.renderOutput(dataTable, element);\n",
              "          const docLink = document.createElement('div');\n",
              "          docLink.innerHTML = docLinkHtml;\n",
              "          element.appendChild(docLink);\n",
              "        }\n",
              "      </script>\n",
              "    </div>\n",
              "  </div>\n",
              "  "
            ]
          },
          "metadata": {},
          "execution_count": 221
        }
      ]
    },
    {
      "cell_type": "code",
      "source": [
        "data1 = data.drop_duplicates()"
      ],
      "metadata": {
        "id": "bW4qh4o3M5I-"
      },
      "execution_count": null,
      "outputs": []
    },
    {
      "cell_type": "code",
      "source": [
        "data1.sort_values(by=[1], ascending=False).head(10)"
      ],
      "metadata": {
        "colab": {
          "base_uri": "https://localhost:8080/",
          "height": 363
        },
        "id": "LFBtMKToKdH8",
        "outputId": "907c4560-5341-40ea-cab8-3800e647f605"
      },
      "execution_count": null,
      "outputs": [
        {
          "output_type": "execute_result",
          "data": {
            "text/plain": [
              "                0   1\n",
              "32  comprehensive  13\n",
              "59   intermediate  12\n",
              "3     programming  11\n",
              "26     management  10\n",
              "10     imperative  10\n",
              "12     functional  10\n",
              "15     procedural  10\n",
              "4       paradigms   9\n",
              "24      automatic   9\n",
              "6       including   9"
            ],
            "text/html": [
              "\n",
              "  <div id=\"df-9adcbda2-86c6-4df1-9884-0fe5bae7b0f3\">\n",
              "    <div class=\"colab-df-container\">\n",
              "      <div>\n",
              "<style scoped>\n",
              "    .dataframe tbody tr th:only-of-type {\n",
              "        vertical-align: middle;\n",
              "    }\n",
              "\n",
              "    .dataframe tbody tr th {\n",
              "        vertical-align: top;\n",
              "    }\n",
              "\n",
              "    .dataframe thead th {\n",
              "        text-align: right;\n",
              "    }\n",
              "</style>\n",
              "<table border=\"1\" class=\"dataframe\">\n",
              "  <thead>\n",
              "    <tr style=\"text-align: right;\">\n",
              "      <th></th>\n",
              "      <th>0</th>\n",
              "      <th>1</th>\n",
              "    </tr>\n",
              "  </thead>\n",
              "  <tbody>\n",
              "    <tr>\n",
              "      <th>32</th>\n",
              "      <td>comprehensive</td>\n",
              "      <td>13</td>\n",
              "    </tr>\n",
              "    <tr>\n",
              "      <th>59</th>\n",
              "      <td>intermediate</td>\n",
              "      <td>12</td>\n",
              "    </tr>\n",
              "    <tr>\n",
              "      <th>3</th>\n",
              "      <td>programming</td>\n",
              "      <td>11</td>\n",
              "    </tr>\n",
              "    <tr>\n",
              "      <th>26</th>\n",
              "      <td>management</td>\n",
              "      <td>10</td>\n",
              "    </tr>\n",
              "    <tr>\n",
              "      <th>10</th>\n",
              "      <td>imperative</td>\n",
              "      <td>10</td>\n",
              "    </tr>\n",
              "    <tr>\n",
              "      <th>12</th>\n",
              "      <td>functional</td>\n",
              "      <td>10</td>\n",
              "    </tr>\n",
              "    <tr>\n",
              "      <th>15</th>\n",
              "      <td>procedural</td>\n",
              "      <td>10</td>\n",
              "    </tr>\n",
              "    <tr>\n",
              "      <th>4</th>\n",
              "      <td>paradigms</td>\n",
              "      <td>9</td>\n",
              "    </tr>\n",
              "    <tr>\n",
              "      <th>24</th>\n",
              "      <td>automatic</td>\n",
              "      <td>9</td>\n",
              "    </tr>\n",
              "    <tr>\n",
              "      <th>6</th>\n",
              "      <td>including</td>\n",
              "      <td>9</td>\n",
              "    </tr>\n",
              "  </tbody>\n",
              "</table>\n",
              "</div>\n",
              "      <button class=\"colab-df-convert\" onclick=\"convertToInteractive('df-9adcbda2-86c6-4df1-9884-0fe5bae7b0f3')\"\n",
              "              title=\"Convert this dataframe to an interactive table.\"\n",
              "              style=\"display:none;\">\n",
              "        \n",
              "  <svg xmlns=\"http://www.w3.org/2000/svg\" height=\"24px\"viewBox=\"0 0 24 24\"\n",
              "       width=\"24px\">\n",
              "    <path d=\"M0 0h24v24H0V0z\" fill=\"none\"/>\n",
              "    <path d=\"M18.56 5.44l.94 2.06.94-2.06 2.06-.94-2.06-.94-.94-2.06-.94 2.06-2.06.94zm-11 1L8.5 8.5l.94-2.06 2.06-.94-2.06-.94L8.5 2.5l-.94 2.06-2.06.94zm10 10l.94 2.06.94-2.06 2.06-.94-2.06-.94-.94-2.06-.94 2.06-2.06.94z\"/><path d=\"M17.41 7.96l-1.37-1.37c-.4-.4-.92-.59-1.43-.59-.52 0-1.04.2-1.43.59L10.3 9.45l-7.72 7.72c-.78.78-.78 2.05 0 2.83L4 21.41c.39.39.9.59 1.41.59.51 0 1.02-.2 1.41-.59l7.78-7.78 2.81-2.81c.8-.78.8-2.07 0-2.86zM5.41 20L4 18.59l7.72-7.72 1.47 1.35L5.41 20z\"/>\n",
              "  </svg>\n",
              "      </button>\n",
              "      \n",
              "  <style>\n",
              "    .colab-df-container {\n",
              "      display:flex;\n",
              "      flex-wrap:wrap;\n",
              "      gap: 12px;\n",
              "    }\n",
              "\n",
              "    .colab-df-convert {\n",
              "      background-color: #E8F0FE;\n",
              "      border: none;\n",
              "      border-radius: 50%;\n",
              "      cursor: pointer;\n",
              "      display: none;\n",
              "      fill: #1967D2;\n",
              "      height: 32px;\n",
              "      padding: 0 0 0 0;\n",
              "      width: 32px;\n",
              "    }\n",
              "\n",
              "    .colab-df-convert:hover {\n",
              "      background-color: #E2EBFA;\n",
              "      box-shadow: 0px 1px 2px rgba(60, 64, 67, 0.3), 0px 1px 3px 1px rgba(60, 64, 67, 0.15);\n",
              "      fill: #174EA6;\n",
              "    }\n",
              "\n",
              "    [theme=dark] .colab-df-convert {\n",
              "      background-color: #3B4455;\n",
              "      fill: #D2E3FC;\n",
              "    }\n",
              "\n",
              "    [theme=dark] .colab-df-convert:hover {\n",
              "      background-color: #434B5C;\n",
              "      box-shadow: 0px 1px 3px 1px rgba(0, 0, 0, 0.15);\n",
              "      filter: drop-shadow(0px 1px 2px rgba(0, 0, 0, 0.3));\n",
              "      fill: #FFFFFF;\n",
              "    }\n",
              "  </style>\n",
              "\n",
              "      <script>\n",
              "        const buttonEl =\n",
              "          document.querySelector('#df-9adcbda2-86c6-4df1-9884-0fe5bae7b0f3 button.colab-df-convert');\n",
              "        buttonEl.style.display =\n",
              "          google.colab.kernel.accessAllowed ? 'block' : 'none';\n",
              "\n",
              "        async function convertToInteractive(key) {\n",
              "          const element = document.querySelector('#df-9adcbda2-86c6-4df1-9884-0fe5bae7b0f3');\n",
              "          const dataTable =\n",
              "            await google.colab.kernel.invokeFunction('convertToInteractive',\n",
              "                                                     [key], {});\n",
              "          if (!dataTable) return;\n",
              "\n",
              "          const docLinkHtml = 'Like what you see? Visit the ' +\n",
              "            '<a target=\"_blank\" href=https://colab.research.google.com/notebooks/data_table.ipynb>data table notebook</a>'\n",
              "            + ' to learn more about interactive tables.';\n",
              "          element.innerHTML = '';\n",
              "          dataTable['output_type'] = 'display_data';\n",
              "          await google.colab.output.renderOutput(dataTable, element);\n",
              "          const docLink = document.createElement('div');\n",
              "          docLink.innerHTML = docLinkHtml;\n",
              "          element.appendChild(docLink);\n",
              "        }\n",
              "      </script>\n",
              "    </div>\n",
              "  </div>\n",
              "  "
            ]
          },
          "metadata": {},
          "execution_count": 226
        }
      ]
    },
    {
      "cell_type": "markdown",
      "source": [
        "\n",
        "###Desafio 9\n",
        "\n",
        "Escreva uma função que retorne a soma dos múltiplos de 3 e 5 entre 0 e um número limite, que vai ser utilizado como parâmetro. \\ Por exemplo, se o limite for 20, ele retornará a soma de 3, 5, 6, 9, 10, 12, 15, 18, 20.\n"
      ],
      "metadata": {
        "id": "imIW-KcROh1d"
      }
    },
    {
      "cell_type": "code",
      "source": [
        "def soma_div(num0):\n",
        "    num2 = 0\n",
        "    num1 = []\n",
        "    for i in range(0, 20):\n",
        "        if (i%3 == 0):\n",
        "            num1.append(i)\n",
        "        elif (i%5 == 0):\n",
        "            num1.append(i)\n",
        "        else:\n",
        "            pass\n",
        "    for i in num1:\n",
        "        num2 = num2+i\n",
        "\n",
        "    print(num2)"
      ],
      "metadata": {
        "id": "Xa4ERdoOM2rF"
      },
      "execution_count": null,
      "outputs": []
    },
    {
      "cell_type": "code",
      "source": [
        "soma_div(190)"
      ],
      "metadata": {
        "colab": {
          "base_uri": "https://localhost:8080/"
        },
        "id": "W2VFxWNDPFDd",
        "outputId": "9da87f89-a213-41d4-9c6c-89d515ccca47"
      },
      "execution_count": null,
      "outputs": [
        {
          "output_type": "stream",
          "name": "stdout",
          "text": [
            "78\n"
          ]
        }
      ]
    },
    {
      "cell_type": "markdown",
      "source": [
        "###Desafio 10\n",
        "\n",
        "Dada uma lista, divida-a em 3 partes iguais e reverta a ordem de cada lista.\n",
        "\n",
        "Exemplo:\n",
        "\n",
        "Entrada: \\ sampleList = [11, 45, 8, 23, 14, 12, 78, 45, 89]\n",
        "\n",
        "Saída: \\ Parte 1 [8, 45, 11] \\ Parte 2 [12, 14, 23] \\ Parte 3 [89, 45, 78]\n"
      ],
      "metadata": {
        "id": "yQls-nj7P-o3"
      }
    },
    {
      "cell_type": "code",
      "source": [
        "import math\n",
        "\n",
        "lista1 = int(input('Quantos numeros haverá na lista? '))\n",
        "lista2 = []\n",
        "for i in range(lista1):\n",
        "    i = int(input('Digite 1 numero: '))\n",
        "    lista2.append(i)\n",
        "print(lista2)\n",
        "\n",
        "div = math.ceil(lista1/3)\n",
        "split = np.array_split(lista2, div)\n",
        "\n",
        "lista3 = []\n",
        "for i in split:\n",
        "    lista3.append(sorted(i.tolist(), key=int, reverse=True))\n",
        "\n",
        "lista3"
      ],
      "metadata": {
        "colab": {
          "base_uri": "https://localhost:8080/"
        },
        "id": "lB2oT5T8PsJU",
        "outputId": "f3442853-1e0f-4099-ab46-4fa6a40bb0da"
      },
      "execution_count": null,
      "outputs": [
        {
          "output_type": "stream",
          "name": "stdout",
          "text": [
            "Quantos numeros haverá na lista? 5\n",
            "Digite 1 numero: 3\n",
            "Digite 1 numero: 8\n",
            "Digite 1 numero: 9\n",
            "Digite 1 numero: 4\n",
            "Digite 1 numero: 54\n",
            "[3, 8, 9, 4, 54]\n"
          ]
        },
        {
          "output_type": "execute_result",
          "data": {
            "text/plain": [
              "[[9, 8, 3], [54, 4]]"
            ]
          },
          "metadata": {},
          "execution_count": 304
        }
      ]
    },
    {
      "cell_type": "markdown",
      "source": [
        "\n",
        "###Desafio 11\n",
        "\n",
        "Dados uma sequência com n números inteiros, determinar quantos números da sequência são pares e quantos são ímpares.\n",
        "Por exemplo, para a sequência:\n",
        "\n",
        "6   2   7  -5   8  -4\n",
        "\n",
        "a sua função deve retornar o número 4 para o número de pares e 2 para o de ímpares.\n",
        "A saída deve ser um tupla contendo primeiramente o número de pares e em seguida o número de ímpares.\n",
        "Para o exemplo anterior, a saída seria (4, 2).\n"
      ],
      "metadata": {
        "id": "GuLACTwya8_S"
      }
    },
    {
      "cell_type": "code",
      "source": [
        "lista1 = int(input('Quantos numeros haverá na lista? '))\n",
        "lista2 = []\n",
        "for i in range(lista1):\n",
        "    i = int(input('Digite 1 numero: '))\n",
        "    lista2.append(i)\n",
        "print(lista2)\n",
        "\n",
        "\n",
        "par = 0\n",
        "impar = 0\n",
        "for i in lista2:\n",
        "    if (i%2 == 0):\n",
        "        par = par+1\n",
        "    else:\n",
        "        impar = impar+1\n",
        "print(f'({par}, {impar})')\n",
        "        \n"
      ],
      "metadata": {
        "colab": {
          "base_uri": "https://localhost:8080/"
        },
        "id": "MV1DTMz5T86g",
        "outputId": "785cb6a8-c2a8-46ff-e9ee-c6f01a52ba0e"
      },
      "execution_count": null,
      "outputs": [
        {
          "output_type": "stream",
          "name": "stdout",
          "text": [
            "Quantos numeros haverá na lista? 5\n",
            "Digite 1 numero: -9\n",
            "Digite 1 numero: -7\n",
            "Digite 1 numero: 8\n",
            "Digite 1 numero: -16\n",
            "Digite 1 numero: 3\n",
            "[-9, -7, 8, -16, 3]\n",
            "(2, 3)\n"
          ]
        }
      ]
    },
    {
      "cell_type": "markdown",
      "source": [
        "###Desafio 12\n",
        "\n",
        "Escreva uma função em Python para verificar a validade de uma senha.\n",
        "\n",
        "A senha deve ter:\n",
        "\n",
        "    Pelo menos 1 letra entre [a-z] e 1 letra entre [A-Z].\n",
        "    Pelo menos 1 número entre [0-9].\n",
        "    Pelo menos 1 caractere de [$ # @].\n",
        "    Comprimento mínimo de 6 caracteres.\n",
        "    Comprimento máximo de 16 caracteres.\n",
        "\n",
        "Entradas: \"12345678\", \"J3sus0\", \"#Te5t300\", \"J*90j12374\", \"Michheeul\", \"Monk3y6\"\n",
        "\n",
        "A saída deve ser a senha e um texto indicando se a senha é válida ou inválida:\n",
        "\n",
        "\"1234\" - Senha inválida\n",
        "\"Qw#1234\" - Senha válida\n",
        "\n"
      ],
      "metadata": {
        "id": "5KMSVY87ej25"
      }
    },
    {
      "cell_type": "code",
      "source": [
        "senhas = [\"Qw#1234\", \"12345678\", \"J3sus0\", \"#Te5t300\", \"J*90j12374\", \"Michheeul\", \"Monk3y6\"]"
      ],
      "metadata": {
        "id": "pXleNMIubRcQ"
      },
      "execution_count": 20,
      "outputs": []
    },
    {
      "cell_type": "code",
      "source": [
        "for senha in senhas:"
      ],
      "metadata": {
        "id": "Ls1dkXrHcatI"
      },
      "execution_count": null,
      "outputs": []
    },
    {
      "cell_type": "code",
      "source": [
        "def valida_senha(senha):\n",
        "    import re \n",
        "    flag = 0\n",
        "    while True:\n",
        "        if (len(senha) <= 6):\n",
        "            flag=-1\n",
        "            break\n",
        "        elif (len(senha) >= 16):\n",
        "            flag=-1\n",
        "            break\n",
        "        elif not re.search(\"[a-z]\", senha): \n",
        "            flag = -1\n",
        "            break\n",
        "        elif not re.search(\"[A-Z]\", senha): \n",
        "            flag = -1\n",
        "            break\n",
        "        elif not re.search(\"[0-9]\", senha): \n",
        "            flag = -1\n",
        "            break\n",
        "        elif not re.search(\"[$#@]\", senha): \n",
        "            flag = -1\n",
        "            break\n",
        "        else:\n",
        "            print('Senha valida')\n",
        "            break\n",
        "\n",
        "    if flag==-1:\n",
        "        print('Senha invalida')"
      ],
      "metadata": {
        "id": "uNZrTIa6D59o"
      },
      "execution_count": 32,
      "outputs": []
    },
    {
      "cell_type": "code",
      "source": [
        "for senha in senhas:\n",
        "    valida_senha(senha)"
      ],
      "metadata": {
        "colab": {
          "base_uri": "https://localhost:8080/"
        },
        "id": "Tfz8GSsfFqHZ",
        "outputId": "8f9f8cdf-eb10-4624-b99d-f7fc1d3cf274"
      },
      "execution_count": 33,
      "outputs": [
        {
          "output_type": "stream",
          "name": "stdout",
          "text": [
            "Senha valida\n",
            "Senha invalida\n",
            "Senha invalida\n",
            "Senha valida\n",
            "Senha invalida\n",
            "Senha invalida\n",
            "Senha invalida\n"
          ]
        }
      ]
    },
    {
      "cell_type": "code",
      "source": [
        ""
      ],
      "metadata": {
        "id": "8tbBk-6NKO2w"
      },
      "execution_count": null,
      "outputs": []
    }
  ]
}